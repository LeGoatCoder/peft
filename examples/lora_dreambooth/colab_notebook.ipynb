{
  "cells": [
    {
      "cell_type": "code",
      "execution_count": null,
      "metadata": {
        "id": "kdOhtpergLCQ"
      },
      "outputs": [],
      "source": [
        "!git clone <https://huggingface.co/spaces/smangrul/peft-lora-sd-dreambooth>  # Clones the peft-lora-sd-dreambooth repository from Hugging Face."
      ]
    },
    {
      "cell_type": "code",
      "execution_count": null,
      "metadata": {
        "id": "_LuGk9mihPx7"

